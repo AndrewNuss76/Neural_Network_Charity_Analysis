{
 "cells": [
  {
   "cell_type": "code",
   "execution_count": 1,
   "metadata": {},
   "outputs": [],
   "source": [
    "# Import our dependencies\n",
    "import pandas as pd\n",
    "import matplotlib as plt\n",
    "from sklearn.datasets import make_blobs\n",
    "import sklearn as skl\n",
    "import tensorflow as tf"
   ]
  },
  {
   "cell_type": "code",
   "execution_count": 2,
   "metadata": {},
   "outputs": [
    {
     "data": {
      "text/plain": [
       "<AxesSubplot:xlabel='Feature 1', ylabel='Feature 2'>"
      ]
     },
     "execution_count": 2,
     "metadata": {},
     "output_type": "execute_result"
    },
    {
     "data": {
      "image/png": "[encoded data removed]",
      "text/plain": [
       "<Figure size 432x288 with 2 Axes>"
      ]
     },
     "metadata": {
      "needs_background": "light"
     },
     "output_type": "display_data"
    }
   ],
   "source": [
    "# Generate dummy dataset\n",
    "X, y = make_blobs(n_samples=1000, centers=2, n_features=2, random_state=78)\n",
    "\n",
    "# Creating a DataFrame with the dummy data\n",
    "df = pd.DataFrame(X, columns=[\"Feature 1\", \"Feature 2\"])\n",
    "df[\"Target\"] = y\n",
    "\n",
    "# Plotting the dummy data\n",
    "df.plot.scatter(x=\"Feature 1\", y=\"Feature 2\", c=\"Target\", colormap=\"winter\")"
   ]
  },
  {
   "cell_type": "code",
   "execution_count": 3,
   "metadata": {},
   "outputs": [],
   "source": [
    "# Use sklearn to split dataset\n",
    "from sklearn.model_selection import train_test_split\n",
    "X_train, X_test, y_train, y_test = train_test_split(X, y, random_state=78)"
   ]
  },
  {
   "cell_type": "code",
   "execution_count": 4,
   "metadata": {},
   "outputs": [],
   "source": [
    "# Create scaler instance\n",
    "X_scaler = skl.preprocessing.StandardScaler()\n",
    "\n",
    "# Fit the scaler\n",
    "X_scaler.fit(X_train)\n",
    "\n",
    "# Scale the data\n",
    "X_train_scaled = X_scaler.transform(X_train)\n",
    "X_test_scaled = X_scaler.transform(X_test)"
   ]
  },
  {
   "cell_type": "code",
   "execution_count": 5,
   "metadata": {},
   "outputs": [],
   "source": [
    "# Create the Keras Sequential model\n",
    "nn_model = tf.keras.models.Sequential()"
   ]
  },
  {
   "cell_type": "code",
   "execution_count": 6,
   "metadata": {},
   "outputs": [],
   "source": [
    "# Add our first Dense layer, including the input layer\n",
    "nn_model.add(tf.keras.layers.Dense(units=1, activation=\"relu\", input_dim=2))"
   ]
  },
  {
   "cell_type": "code",
   "execution_count": 7,
   "metadata": {},
   "outputs": [],
   "source": [
    "# Add the output layer that uses a probability activation function\n",
    "nn_model.add(tf.keras.layers.Dense(units=1, activation=\"sigmoid\"))"
   ]
  },
  {
   "cell_type": "code",
   "execution_count": 8,
   "metadata": {},
   "outputs": [
    {
     "name": "stdout",
     "output_type": "stream",
     "text": [
      "Model: \"sequential\"\n",
      "_________________________________________________________________\n",
      "Layer (type)                 Output Shape              Param #   \n",
      "=================================================================\n",
      "dense (Dense)                (None, 1)                 3         \n",
      "_________________________________________________________________\n",
      "dense_1 (Dense)              (None, 1)                 2         \n",
      "=================================================================\n",
      "Total params: 5\n",
      "Trainable params: 5\n",
      "Non-trainable params: 0\n",
      "_________________________________________________________________\n"
     ]
    }
   ],
   "source": [
    "# Check the structure of the Sequential model\n",
    "nn_model.summary()"
   ]
  },
  {
   "cell_type": "code",
   "execution_count": 9,
   "metadata": {},
   "outputs": [],
   "source": [
    "# Compile the Sequential model together and customize metrics\n",
    "nn_model.compile(loss=\"binary_crossentropy\", optimizer=\"adam\", metrics=[\"accuracy\"])"
   ]
  },
  {
   "cell_type": "code",
   "execution_count": 10,
   "metadata": {},
   "outputs": [
    {
     "name": "stdout",
     "output_type": "stream",
     "text": [
      "Epoch 1/100\n",
      "24/24 [==============================] - 0s 692us/step - loss: 0.5651 - accuracy: 0.8257\n",
      "Epoch 2/100\n",
      "24/24 [==============================] - 0s 637us/step - loss: 0.5532 - accuracy: 0.9911\n",
      "Epoch 3/100\n",
      "24/24 [==============================] - 0s 654us/step - loss: 0.5435 - accuracy: 0.9918\n",
      "Epoch 4/100\n",
      "24/24 [==============================] - 0s 694us/step - loss: 0.5221 - accuracy: 0.9951\n",
      "Epoch 5/100\n",
      "24/24 [==============================] - 0s 664us/step - loss: 0.5174 - accuracy: 0.9965\n",
      "Epoch 6/100\n",
      "24/24 [==============================] - 0s 653us/step - loss: 0.5006 - accuracy: 0.9963\n",
      "Epoch 7/100\n",
      "24/24 [==============================] - 0s 632us/step - loss: 0.4884 - accuracy: 0.9919\n",
      "Epoch 8/100\n",
      "24/24 [==============================] - 0s 655us/step - loss: 0.4838 - accuracy: 0.9941\n",
      "Epoch 9/100\n",
      "24/24 [==============================] - 0s 643us/step - loss: 0.4593 - accuracy: 0.9953\n",
      "Epoch 10/100\n",
      "24/24 [==============================] - 0s 647us/step - loss: 0.4509 - accuracy: 0.9898\n",
      "Epoch 11/100\n",
      "24/24 [==============================] - 0s 636us/step - loss: 0.4387 - accuracy: 0.9897\n",
      "Epoch 12/100\n",
      "24/24 [==============================] - 0s 632us/step - loss: 0.4226 - accuracy: 0.9919\n",
      "Epoch 13/100\n",
      "24/24 [==============================] - 0s 636us/step - loss: 0.4233 - accuracy: 0.9959\n",
      "Epoch 14/100\n",
      "24/24 [==============================] - 0s 632us/step - loss: 0.4111 - accuracy: 0.9887\n",
      "Epoch 15/100\n",
      "24/24 [==============================] - 0s 635us/step - loss: 0.3956 - accuracy: 0.9937\n",
      "Epoch 16/100\n",
      "24/24 [==============================] - 0s 613us/step - loss: 0.3928 - accuracy: 0.9932\n",
      "Epoch 17/100\n",
      "24/24 [==============================] - 0s 638us/step - loss: 0.3792 - accuracy: 0.9922\n",
      "Epoch 18/100\n",
      "24/24 [==============================] - 0s 621us/step - loss: 0.3664 - accuracy: 0.9901\n",
      "Epoch 19/100\n",
      "24/24 [==============================] - 0s 629us/step - loss: 0.3579 - accuracy: 0.9966\n",
      "Epoch 20/100\n",
      "24/24 [==============================] - 0s 631us/step - loss: 0.3380 - accuracy: 0.9971\n",
      "Epoch 21/100\n",
      "24/24 [==============================] - 0s 635us/step - loss: 0.3345 - accuracy: 0.9968\n",
      "Epoch 22/100\n",
      "24/24 [==============================] - 0s 661us/step - loss: 0.3307 - accuracy: 0.9933\n",
      "Epoch 23/100\n",
      "24/24 [==============================] - 0s 619us/step - loss: 0.3189 - accuracy: 0.9969\n",
      "Epoch 24/100\n",
      "24/24 [==============================] - 0s 633us/step - loss: 0.3155 - accuracy: 0.9952\n",
      "Epoch 25/100\n",
      "24/24 [==============================] - 0s 641us/step - loss: 0.3073 - accuracy: 0.9977\n",
      "Epoch 26/100\n",
      "24/24 [==============================] - 0s 638us/step - loss: 0.2875 - accuracy: 0.9958\n",
      "Epoch 27/100\n",
      "24/24 [==============================] - 0s 633us/step - loss: 0.2776 - accuracy: 0.9962\n",
      "Epoch 28/100\n",
      "24/24 [==============================] - 0s 630us/step - loss: 0.2830 - accuracy: 0.9964\n",
      "Epoch 29/100\n",
      "24/24 [==============================] - 0s 644us/step - loss: 0.2766 - accuracy: 0.9986\n",
      "Epoch 30/100\n",
      "24/24 [==============================] - 0s 634us/step - loss: 0.2668 - accuracy: 0.9948\n",
      "Epoch 31/100\n",
      "24/24 [==============================] - 0s 651us/step - loss: 0.2573 - accuracy: 0.9962\n",
      "Epoch 32/100\n",
      "24/24 [==============================] - 0s 636us/step - loss: 0.2558 - accuracy: 0.9981\n",
      "Epoch 33/100\n",
      "24/24 [==============================] - 0s 621us/step - loss: 0.2507 - accuracy: 0.9935\n",
      "Epoch 34/100\n",
      "24/24 [==============================] - 0s 618us/step - loss: 0.2418 - accuracy: 0.9971\n",
      "Epoch 35/100\n",
      "24/24 [==============================] - 0s 666us/step - loss: 0.2383 - accuracy: 0.9973\n",
      "Epoch 36/100\n",
      "24/24 [==============================] - 0s 655us/step - loss: 0.2222 - accuracy: 0.9973\n",
      "Epoch 37/100\n",
      "24/24 [==============================] - 0s 695us/step - loss: 0.2199 - accuracy: 0.9971\n",
      "Epoch 38/100\n",
      "24/24 [==============================] - 0s 649us/step - loss: 0.2269 - accuracy: 0.9976\n",
      "Epoch 39/100\n",
      "24/24 [==============================] - 0s 691us/step - loss: 0.2163 - accuracy: 0.9929\n",
      "Epoch 40/100\n",
      "24/24 [==============================] - 0s 670us/step - loss: 0.2148 - accuracy: 0.9937\n",
      "Epoch 41/100\n",
      "24/24 [==============================] - 0s 662us/step - loss: 0.2031 - accuracy: 0.9979\n",
      "Epoch 42/100\n",
      "24/24 [==============================] - 0s 661us/step - loss: 0.2006 - accuracy: 0.9955\n",
      "Epoch 43/100\n",
      "24/24 [==============================] - 0s 643us/step - loss: 0.2034 - accuracy: 0.9930\n",
      "Epoch 44/100\n",
      "24/24 [==============================] - 0s 656us/step - loss: 0.2005 - accuracy: 0.9986\n",
      "Epoch 45/100\n",
      "24/24 [==============================] - 0s 669us/step - loss: 0.1894 - accuracy: 0.9978\n",
      "Epoch 46/100\n",
      "24/24 [==============================] - 0s 668us/step - loss: 0.1864 - accuracy: 0.9957\n",
      "Epoch 47/100\n",
      "24/24 [==============================] - 0s 635us/step - loss: 0.1780 - accuracy: 0.9941\n",
      "Epoch 48/100\n",
      "24/24 [==============================] - 0s 660us/step - loss: 0.1762 - accuracy: 0.9971\n",
      "Epoch 49/100\n",
      "24/24 [==============================] - 0s 645us/step - loss: 0.1775 - accuracy: 0.9942\n",
      "Epoch 50/100\n",
      "24/24 [==============================] - 0s 659us/step - loss: 0.1556 - accuracy: 0.9977\n",
      "Epoch 51/100\n",
      "24/24 [==============================] - 0s 640us/step - loss: 0.1711 - accuracy: 0.9963\n",
      "Epoch 52/100\n",
      "24/24 [==============================] - 0s 663us/step - loss: 0.1623 - accuracy: 0.9977\n",
      "Epoch 53/100\n",
      "24/24 [==============================] - 0s 632us/step - loss: 0.1633 - accuracy: 0.9988\n",
      "Epoch 54/100\n",
      "24/24 [==============================] - 0s 665us/step - loss: 0.1534 - accuracy: 1.0000\n",
      "Epoch 55/100\n",
      "24/24 [==============================] - 0s 665us/step - loss: 0.1598 - accuracy: 1.0000\n",
      "Epoch 56/100\n",
      "24/24 [==============================] - 0s 611us/step - loss: 0.1579 - accuracy: 1.0000\n",
      "Epoch 57/100\n",
      "24/24 [==============================] - 0s 621us/step - loss: 0.1541 - accuracy: 1.0000\n",
      "Epoch 58/100\n",
      "24/24 [==============================] - 0s 615us/step - loss: 0.1447 - accuracy: 1.0000\n",
      "Epoch 59/100\n",
      "24/24 [==============================] - 0s 622us/step - loss: 0.1463 - accuracy: 1.0000\n",
      "Epoch 60/100\n",
      "24/24 [==============================] - 0s 612us/step - loss: 0.1417 - accuracy: 1.0000\n",
      "Epoch 61/100\n",
      "24/24 [==============================] - 0s 662us/step - loss: 0.1434 - accuracy: 1.0000\n",
      "Epoch 62/100\n",
      "24/24 [==============================] - 0s 624us/step - loss: 0.1332 - accuracy: 1.0000\n",
      "Epoch 63/100\n",
      "24/24 [==============================] - 0s 626us/step - loss: 0.1350 - accuracy: 1.0000\n",
      "Epoch 64/100\n",
      "24/24 [==============================] - 0s 591us/step - loss: 0.1251 - accuracy: 1.0000\n",
      "Epoch 65/100\n",
      "24/24 [==============================] - 0s 599us/step - loss: 0.1289 - accuracy: 1.0000\n",
      "Epoch 66/100\n",
      "24/24 [==============================] - 0s 596us/step - loss: 0.1199 - accuracy: 1.0000\n",
      "Epoch 67/100\n",
      "24/24 [==============================] - 0s 598us/step - loss: 0.1223 - accuracy: 1.0000\n",
      "Epoch 68/100\n",
      "24/24 [==============================] - 0s 591us/step - loss: 0.1211 - accuracy: 1.0000\n",
      "Epoch 69/100\n",
      "24/24 [==============================] - 0s 624us/step - loss: 0.1260 - accuracy: 1.0000\n",
      "Epoch 70/100\n",
      "24/24 [==============================] - 0s 618us/step - loss: 0.1149 - accuracy: 1.0000\n",
      "Epoch 71/100\n",
      "24/24 [==============================] - 0s 611us/step - loss: 0.1183 - accuracy: 1.0000\n",
      "Epoch 72/100\n",
      "24/24 [==============================] - 0s 605us/step - loss: 0.1109 - accuracy: 1.0000\n",
      "Epoch 73/100\n",
      "24/24 [==============================] - 0s 602us/step - loss: 0.1084 - accuracy: 1.0000\n",
      "Epoch 74/100\n",
      "24/24 [==============================] - 0s 597us/step - loss: 0.1088 - accuracy: 1.0000\n",
      "Epoch 75/100\n",
      "24/24 [==============================] - 0s 597us/step - loss: 0.1109 - accuracy: 1.0000\n",
      "Epoch 76/100\n",
      "24/24 [==============================] - 0s 600us/step - loss: 0.1046 - accuracy: 1.0000\n",
      "Epoch 77/100\n",
      "24/24 [==============================] - 0s 589us/step - loss: 0.1047 - accuracy: 1.0000\n",
      "Epoch 78/100\n",
      "24/24 [==============================] - 0s 570us/step - loss: 0.0997 - accuracy: 1.0000\n",
      "Epoch 79/100\n",
      "24/24 [==============================] - 0s 579us/step - loss: 0.0993 - accuracy: 1.0000\n",
      "Epoch 80/100\n",
      "24/24 [==============================] - 0s 572us/step - loss: 0.1029 - accuracy: 1.0000\n",
      "Epoch 81/100\n"
     ]
    },
    {
     "name": "stdout",
     "output_type": "stream",
     "text": [
      "24/24 [==============================] - 0s 591us/step - loss: 0.1012 - accuracy: 1.0000\n",
      "Epoch 82/100\n",
      "24/24 [==============================] - 0s 610us/step - loss: 0.0961 - accuracy: 1.0000\n",
      "Epoch 83/100\n",
      "24/24 [==============================] - 0s 791us/step - loss: 0.1016 - accuracy: 1.0000\n",
      "Epoch 84/100\n",
      "24/24 [==============================] - 0s 639us/step - loss: 0.0906 - accuracy: 1.0000\n",
      "Epoch 85/100\n",
      "24/24 [==============================] - 0s 639us/step - loss: 0.0909 - accuracy: 1.0000\n",
      "Epoch 86/100\n",
      "24/24 [==============================] - 0s 584us/step - loss: 0.0891 - accuracy: 1.0000\n",
      "Epoch 87/100\n",
      "24/24 [==============================] - 0s 601us/step - loss: 0.0860 - accuracy: 1.0000\n",
      "Epoch 88/100\n",
      "24/24 [==============================] - 0s 602us/step - loss: 0.0862 - accuracy: 1.0000\n",
      "Epoch 89/100\n",
      "24/24 [==============================] - 0s 608us/step - loss: 0.0873 - accuracy: 1.0000\n",
      "Epoch 90/100\n",
      "24/24 [==============================] - 0s 606us/step - loss: 0.0817 - accuracy: 1.0000\n",
      "Epoch 91/100\n",
      "24/24 [==============================] - 0s 591us/step - loss: 0.0824 - accuracy: 1.0000\n",
      "Epoch 92/100\n",
      "24/24 [==============================] - 0s 575us/step - loss: 0.0845 - accuracy: 1.0000\n",
      "Epoch 93/100\n",
      "24/24 [==============================] - 0s 564us/step - loss: 0.0831 - accuracy: 1.0000\n",
      "Epoch 94/100\n",
      "24/24 [==============================] - 0s 572us/step - loss: 0.0818 - accuracy: 1.0000\n",
      "Epoch 95/100\n",
      "24/24 [==============================] - 0s 583us/step - loss: 0.0744 - accuracy: 1.0000\n",
      "Epoch 96/100\n",
      "24/24 [==============================] - 0s 586us/step - loss: 0.0741 - accuracy: 1.0000\n",
      "Epoch 97/100\n",
      "24/24 [==============================] - 0s 599us/step - loss: 0.0723 - accuracy: 1.0000\n",
      "Epoch 98/100\n",
      "24/24 [==============================] - 0s 730us/step - loss: 0.0735 - accuracy: 1.0000\n",
      "Epoch 99/100\n",
      "24/24 [==============================] - 0s 942us/step - loss: 0.0767 - accuracy: 1.0000\n",
      "Epoch 100/100\n",
      "24/24 [==============================] - 0s 923us/step - loss: 0.0718 - accuracy: 1.0000\n"
     ]
    }
   ],
   "source": [
    "# Fit the model to the training data\n",
    "fit_model = nn_model.fit(X_train_scaled, y_train, epochs=100)"
   ]
  },
  {
   "cell_type": "code",
   "execution_count": 11,
   "metadata": {},
   "outputs": [
    {
     "data": {
      "text/plain": [
       "<AxesSubplot:>"
      ]
     },
     "execution_count": 11,
     "metadata": {},
     "output_type": "execute_result"
    },
    {
     "data": {
      "image/png": "[encoded data removed]",
      "text/plain": [
       "<Figure size 432x288 with 1 Axes>"
      ]
     },
     "metadata": {
      "needs_background": "light"
     },
     "output_type": "display_data"
    }
   ],
   "source": [
    "# Create a DataFrame containing training history\n",
    "history_df = pd.DataFrame(fit_model.history, index=range(1,len(fit_model.history[\"loss\"])+1))\n",
    "\n",
    "# Plot the loss\n",
    "history_df.plot(y=\"loss\")"
   ]
  },
  {
   "cell_type": "code",
   "execution_count": 12,
   "metadata": {},
   "outputs": [
    {
     "data": {
      "text/plain": [
       "<AxesSubplot:>"
      ]
     },
     "execution_count": 12,
     "metadata": {},
     "output_type": "execute_result"
    },
    {
     "data": {
      "image/png": "[encoded data removed]",
      "text/plain": [
       "<Figure size 432x288 with 1 Axes>"
      ]
     },
     "metadata": {
      "needs_background": "light"
     },
     "output_type": "display_data"
    }
   ],
   "source": [
    "# Plot the accuracy\n",
    "history_df.plot(y=\"accuracy\")"
   ]
  },
  {
   "cell_type": "code",
   "execution_count": 13,
   "metadata": {},
   "outputs": [
    {
     "name": "stdout",
     "output_type": "stream",
     "text": [
      "8/8 - 0s - loss: 0.0722 - accuracy: 1.0000\n",
      "Loss: 0.07216551154851913, Accuracy: 1.0\n"
     ]
    }
   ],
   "source": [
    "# Evaluate the model using the test data\n",
    "model_loss, model_accuracy = nn_model.evaluate(X_test_scaled,y_test,verbose=2)\n",
    "print(f\"Loss: {model_loss}, Accuracy: {model_accuracy}\")"
   ]
  },
  {
   "cell_type": "code",
   "execution_count": 14,
   "metadata": {},
   "outputs": [
    {
     "data": {
      "text/plain": [
       "array([[0],\n",
       "       [1],\n",
       "       [0],\n",
       "       [1],\n",
       "       [0],\n",
       "       [0],\n",
       "       [1],\n",
       "       [1],\n",
       "       [1],\n",
       "       [0]], dtype=int32)"
      ]
     },
     "execution_count": 14,
     "metadata": {},
     "output_type": "execute_result"
    }
   ],
   "source": [
    "# Predict the classification of a new set of blob data\n",
    "new_X, new_Y = make_blobs(n_samples=10, centers=2, n_features=2, random_state=78)\n",
    "new_X_scaled = X_scaler.transform(new_X)\n",
    "(nn_model.predict(new_X_scaled) > 0.5).astype(\"int32\")"
   ]
  },
  {
   "cell_type": "code",
   "execution_count": 15,
   "metadata": {},
   "outputs": [],
   "source": [
    "################################# 19.2.4 #########################################"
   ]
  },
  {
   "cell_type": "code",
   "execution_count": 16,
   "metadata": {},
   "outputs": [
    {
     "data": {
      "text/plain": [
       "<AxesSubplot:xlabel='Feature 1', ylabel='Feature 2'>"
      ]
     },
     "execution_count": 16,
     "metadata": {},
     "output_type": "execute_result"
    },
    {
     "data": {
      "image/png": "[encoded data removed]",
      "text/plain": [
       "<Figure size 432x288 with 2 Axes>"
      ]
     },
     "metadata": {
      "needs_background": "light"
     },
     "output_type": "display_data"
    }
   ],
   "source": [
    "from sklearn.datasets import make_moons\n",
    "\n",
    "# Creating dummy nonlinear data\n",
    "X_moons, y_moons = make_moons(n_samples=1000, noise=0.08, random_state=78)\n",
    "\n",
    "# Transforming y_moons to a vertical vector\n",
    "y_moons = y_moons.reshape(-1, 1)\n",
    "\n",
    "# Creating a DataFrame to plot the nonlinear dummy data\n",
    "df_moons = pd.DataFrame(X_moons, columns=[\"Feature 1\", \"Feature 2\"])\n",
    "df_moons[\"Target\"] = y_moons\n",
    "\n",
    "# Plot the nonlinear dummy data\n",
    "df_moons.plot.scatter(x=\"Feature 1\",y=\"Feature 2\", c=\"Target\",colormap=\"winter\")"
   ]
  },
  {
   "cell_type": "code",
   "execution_count": 17,
   "metadata": {},
   "outputs": [],
   "source": [
    "# Create training and testing sets\n",
    "X_moon_train, X_moon_test, y_moon_train, y_moon_test = train_test_split(\n",
    "    X_moons, y_moons, random_state=78\n",
    ")\n",
    "\n",
    "# Create the scaler instance\n",
    "X_moon_scaler = skl.preprocessing.StandardScaler()\n",
    "\n",
    "# Fit the scaler\n",
    "X_moon_scaler.fit(X_moon_train)\n",
    "\n",
    "# Scale the data\n",
    "X_moon_train_scaled = X_moon_scaler.transform(X_moon_train)\n",
    "X_moon_test_scaled = X_moon_scaler.transform(X_moon_test)"
   ]
  },
  {
   "cell_type": "code",
   "execution_count": 18,
   "metadata": {},
   "outputs": [
    {
     "name": "stdout",
     "output_type": "stream",
     "text": [
      "Epoch 1/100\n",
      "24/24 [==============================] - 0s 1ms/step - loss: 1.2245 - accuracy: 0.4387\n",
      "Epoch 2/100\n",
      "24/24 [==============================] - 0s 972us/step - loss: 1.0999 - accuracy: 0.4573\n",
      "Epoch 3/100\n",
      "24/24 [==============================] - 0s 965us/step - loss: 1.0147 - accuracy: 0.4733\n",
      "Epoch 4/100\n",
      "24/24 [==============================] - 0s 1ms/step - loss: 0.9554 - accuracy: 0.4853\n",
      "Epoch 5/100\n",
      "24/24 [==============================] - 0s 1ms/step - loss: 0.9107 - accuracy: 0.4907\n",
      "Epoch 6/100\n",
      "24/24 [==============================] - 0s 944us/step - loss: 0.8743 - accuracy: 0.5027\n",
      "Epoch 7/100\n",
      "24/24 [==============================] - 0s 956us/step - loss: 0.8449 - accuracy: 0.5107\n",
      "Epoch 8/100\n",
      "24/24 [==============================] - 0s 924us/step - loss: 0.8191 - accuracy: 0.5173\n",
      "Epoch 9/100\n",
      "24/24 [==============================] - 0s 980us/step - loss: 0.7976 - accuracy: 0.5293\n",
      "Epoch 10/100\n",
      "24/24 [==============================] - 0s 998us/step - loss: 0.7777 - accuracy: 0.5400\n",
      "Epoch 11/100\n",
      "24/24 [==============================] - 0s 1ms/step - loss: 0.7598 - accuracy: 0.5547\n",
      "Epoch 12/100\n",
      "24/24 [==============================] - 0s 991us/step - loss: 0.7436 - accuracy: 0.5653\n",
      "Epoch 13/100\n",
      "24/24 [==============================] - 0s 935us/step - loss: 0.7288 - accuracy: 0.5733\n",
      "Epoch 14/100\n",
      "24/24 [==============================] - 0s 927us/step - loss: 0.7152 - accuracy: 0.5800\n",
      "Epoch 15/100\n",
      "24/24 [==============================] - 0s 972us/step - loss: 0.7028 - accuracy: 0.5840\n",
      "Epoch 16/100\n",
      "24/24 [==============================] - 0s 976us/step - loss: 0.6909 - accuracy: 0.5933\n",
      "Epoch 17/100\n",
      "24/24 [==============================] - 0s 955us/step - loss: 0.6800 - accuracy: 0.5960\n",
      "Epoch 18/100\n",
      "24/24 [==============================] - 0s 965us/step - loss: 0.6699 - accuracy: 0.6027\n",
      "Epoch 19/100\n",
      "24/24 [==============================] - 0s 973us/step - loss: 0.6600 - accuracy: 0.6093\n",
      "Epoch 20/100\n",
      "24/24 [==============================] - 0s 969us/step - loss: 0.6509 - accuracy: 0.6160\n",
      "Epoch 21/100\n",
      "24/24 [==============================] - 0s 969us/step - loss: 0.6422 - accuracy: 0.6200\n",
      "Epoch 22/100\n",
      "24/24 [==============================] - 0s 990us/step - loss: 0.6338 - accuracy: 0.6240\n",
      "Epoch 23/100\n",
      "24/24 [==============================] - 0s 997us/step - loss: 0.6257 - accuracy: 0.6280\n",
      "Epoch 24/100\n",
      "24/24 [==============================] - 0s 932us/step - loss: 0.6180 - accuracy: 0.6387\n",
      "Epoch 25/100\n",
      "24/24 [==============================] - 0s 946us/step - loss: 0.6108 - accuracy: 0.6427\n",
      "Epoch 26/100\n",
      "24/24 [==============================] - 0s 1ms/step - loss: 0.6037 - accuracy: 0.6480\n",
      "Epoch 27/100\n",
      "24/24 [==============================] - 0s 980us/step - loss: 0.5972 - accuracy: 0.6533\n",
      "Epoch 28/100\n",
      "24/24 [==============================] - 0s 1ms/step - loss: 0.5907 - accuracy: 0.6547\n",
      "Epoch 29/100\n",
      "24/24 [==============================] - 0s 965us/step - loss: 0.5845 - accuracy: 0.6667\n",
      "Epoch 30/100\n",
      "24/24 [==============================] - 0s 1ms/step - loss: 0.5786 - accuracy: 0.6707\n",
      "Epoch 31/100\n",
      "24/24 [==============================] - 0s 899us/step - loss: 0.5726 - accuracy: 0.6747\n",
      "Epoch 32/100\n",
      "24/24 [==============================] - 0s 1ms/step - loss: 0.5669 - accuracy: 0.6760\n",
      "Epoch 33/100\n",
      "24/24 [==============================] - 0s 900us/step - loss: 0.5613 - accuracy: 0.6800\n",
      "Epoch 34/100\n",
      "24/24 [==============================] - 0s 1ms/step - loss: 0.5558 - accuracy: 0.6827\n",
      "Epoch 35/100\n",
      "24/24 [==============================] - 0s 991us/step - loss: 0.5504 - accuracy: 0.6867\n",
      "Epoch 36/100\n",
      "24/24 [==============================] - 0s 998us/step - loss: 0.5453 - accuracy: 0.6893\n",
      "Epoch 37/100\n",
      "24/24 [==============================] - 0s 934us/step - loss: 0.5401 - accuracy: 0.6920\n",
      "Epoch 38/100\n",
      "24/24 [==============================] - 0s 1ms/step - loss: 0.5349 - accuracy: 0.6960\n",
      "Epoch 39/100\n",
      "24/24 [==============================] - 0s 994us/step - loss: 0.5297 - accuracy: 0.7000\n",
      "Epoch 40/100\n",
      "24/24 [==============================] - 0s 978us/step - loss: 0.5246 - accuracy: 0.7053\n",
      "Epoch 41/100\n",
      "24/24 [==============================] - 0s 1ms/step - loss: 0.5195 - accuracy: 0.7067\n",
      "Epoch 42/100\n",
      "24/24 [==============================] - 0s 1ms/step - loss: 0.5145 - accuracy: 0.7107\n",
      "Epoch 43/100\n",
      "24/24 [==============================] - 0s 981us/step - loss: 0.5093 - accuracy: 0.7133\n",
      "Epoch 44/100\n",
      "24/24 [==============================] - 0s 1ms/step - loss: 0.5042 - accuracy: 0.7173\n",
      "Epoch 45/100\n",
      "24/24 [==============================] - 0s 1ms/step - loss: 0.4992 - accuracy: 0.7200\n",
      "Epoch 46/100\n",
      "24/24 [==============================] - 0s 974us/step - loss: 0.4941 - accuracy: 0.7240\n",
      "Epoch 47/100\n",
      "24/24 [==============================] - 0s 996us/step - loss: 0.4891 - accuracy: 0.7253\n",
      "Epoch 48/100\n",
      "24/24 [==============================] - 0s 1ms/step - loss: 0.4840 - accuracy: 0.7280\n",
      "Epoch 49/100\n",
      "24/24 [==============================] - 0s 1ms/step - loss: 0.4792 - accuracy: 0.7347\n",
      "Epoch 50/100\n",
      "24/24 [==============================] - 0s 1ms/step - loss: 0.4742 - accuracy: 0.7360\n",
      "Epoch 51/100\n",
      "24/24 [==============================] - 0s 1ms/step - loss: 0.4693 - accuracy: 0.7427\n",
      "Epoch 52/100\n",
      "24/24 [==============================] - 0s 1ms/step - loss: 0.4641 - accuracy: 0.7440\n",
      "Epoch 53/100\n",
      "24/24 [==============================] - 0s 902us/step - loss: 0.4589 - accuracy: 0.7467\n",
      "Epoch 54/100\n",
      "24/24 [==============================] - 0s 989us/step - loss: 0.4538 - accuracy: 0.7493\n",
      "Epoch 55/100\n",
      "24/24 [==============================] - 0s 1ms/step - loss: 0.4488 - accuracy: 0.7560\n",
      "Epoch 56/100\n",
      "24/24 [==============================] - 0s 2ms/step - loss: 0.4438 - accuracy: 0.7573\n",
      "Epoch 57/100\n",
      "24/24 [==============================] - 0s 1ms/step - loss: 0.4390 - accuracy: 0.7587\n",
      "Epoch 58/100\n",
      "24/24 [==============================] - 0s 1ms/step - loss: 0.4340 - accuracy: 0.7653\n",
      "Epoch 59/100\n",
      "24/24 [==============================] - 0s 1ms/step - loss: 0.4293 - accuracy: 0.7707\n",
      "Epoch 60/100\n",
      "24/24 [==============================] - 0s 966us/step - loss: 0.4245 - accuracy: 0.7747\n",
      "Epoch 61/100\n",
      "24/24 [==============================] - 0s 1ms/step - loss: 0.4198 - accuracy: 0.7787\n",
      "Epoch 62/100\n",
      "24/24 [==============================] - 0s 966us/step - loss: 0.4151 - accuracy: 0.7813\n",
      "Epoch 63/100\n",
      "24/24 [==============================] - 0s 935us/step - loss: 0.4105 - accuracy: 0.7840\n",
      "Epoch 64/100\n",
      "24/24 [==============================] - 0s 962us/step - loss: 0.4063 - accuracy: 0.7853\n",
      "Epoch 65/100\n",
      "24/24 [==============================] - 0s 963us/step - loss: 0.4017 - accuracy: 0.7853\n",
      "Epoch 66/100\n",
      "24/24 [==============================] - 0s 956us/step - loss: 0.3974 - accuracy: 0.7893\n",
      "Epoch 67/100\n",
      "24/24 [==============================] - 0s 953us/step - loss: 0.3931 - accuracy: 0.7933\n",
      "Epoch 68/100\n",
      "24/24 [==============================] - 0s 941us/step - loss: 0.3890 - accuracy: 0.7947\n",
      "Epoch 69/100\n",
      "24/24 [==============================] - 0s 954us/step - loss: 0.3849 - accuracy: 0.7987\n",
      "Epoch 70/100\n",
      "24/24 [==============================] - 0s 945us/step - loss: 0.3808 - accuracy: 0.8013\n",
      "Epoch 71/100\n",
      "24/24 [==============================] - 0s 926us/step - loss: 0.3768 - accuracy: 0.8093\n",
      "Epoch 72/100\n",
      "24/24 [==============================] - 0s 964us/step - loss: 0.3728 - accuracy: 0.8120\n",
      "Epoch 73/100\n",
      "24/24 [==============================] - 0s 966us/step - loss: 0.3690 - accuracy: 0.8160\n",
      "Epoch 74/100\n",
      "24/24 [==============================] - 0s 982us/step - loss: 0.3651 - accuracy: 0.8173\n",
      "Epoch 75/100\n",
      "24/24 [==============================] - 0s 941us/step - loss: 0.3613 - accuracy: 0.8200\n",
      "Epoch 76/100\n",
      "24/24 [==============================] - 0s 986us/step - loss: 0.3574 - accuracy: 0.8213\n",
      "Epoch 77/100\n",
      "24/24 [==============================] - 0s 957us/step - loss: 0.3539 - accuracy: 0.8253\n",
      "Epoch 78/100\n",
      "24/24 [==============================] - 0s 964us/step - loss: 0.3503 - accuracy: 0.8267\n",
      "Epoch 79/100\n",
      "24/24 [==============================] - 0s 955us/step - loss: 0.3470 - accuracy: 0.8267\n",
      "Epoch 80/100\n",
      "24/24 [==============================] - 0s 1ms/step - loss: 0.3439 - accuracy: 0.8267\n",
      "Epoch 81/100\n"
     ]
    },
    {
     "name": "stdout",
     "output_type": "stream",
     "text": [
      "24/24 [==============================] - 0s 935us/step - loss: 0.3406 - accuracy: 0.8280\n",
      "Epoch 82/100\n",
      "24/24 [==============================] - 0s 1ms/step - loss: 0.3377 - accuracy: 0.8307\n",
      "Epoch 83/100\n",
      "24/24 [==============================] - 0s 934us/step - loss: 0.3349 - accuracy: 0.8307\n",
      "Epoch 84/100\n",
      "24/24 [==============================] - 0s 944us/step - loss: 0.3323 - accuracy: 0.8320\n",
      "Epoch 85/100\n",
      "24/24 [==============================] - 0s 1ms/step - loss: 0.3296 - accuracy: 0.8347\n",
      "Epoch 86/100\n",
      "24/24 [==============================] - 0s 1ms/step - loss: 0.3271 - accuracy: 0.8413\n",
      "Epoch 87/100\n",
      "24/24 [==============================] - 0s 978us/step - loss: 0.3246 - accuracy: 0.8427\n",
      "Epoch 88/100\n",
      "24/24 [==============================] - 0s 1ms/step - loss: 0.3222 - accuracy: 0.8467\n",
      "Epoch 89/100\n",
      "24/24 [==============================] - 0s 990us/step - loss: 0.3201 - accuracy: 0.8507\n",
      "Epoch 90/100\n",
      "24/24 [==============================] - 0s 992us/step - loss: 0.3179 - accuracy: 0.8507\n",
      "Epoch 91/100\n",
      "24/24 [==============================] - 0s 932us/step - loss: 0.3158 - accuracy: 0.8507\n",
      "Epoch 92/100\n",
      "24/24 [==============================] - 0s 906us/step - loss: 0.3138 - accuracy: 0.8560\n",
      "Epoch 93/100\n",
      "24/24 [==============================] - 0s 963us/step - loss: 0.3120 - accuracy: 0.8573\n",
      "Epoch 94/100\n",
      "24/24 [==============================] - 0s 959us/step - loss: 0.3102 - accuracy: 0.8560\n",
      "Epoch 95/100\n",
      "24/24 [==============================] - 0s 992us/step - loss: 0.3083 - accuracy: 0.8600\n",
      "Epoch 96/100\n",
      "24/24 [==============================] - 0s 1ms/step - loss: 0.3067 - accuracy: 0.8600\n",
      "Epoch 97/100\n",
      "24/24 [==============================] - 0s 971us/step - loss: 0.3050 - accuracy: 0.8627\n",
      "Epoch 98/100\n",
      "24/24 [==============================] - 0s 1ms/step - loss: 0.3034 - accuracy: 0.8667\n",
      "Epoch 99/100\n",
      "24/24 [==============================] - 0s 1ms/step - loss: 0.3018 - accuracy: 0.8667\n",
      "Epoch 100/100\n",
      "24/24 [==============================] - 0s 1ms/step - loss: 0.3003 - accuracy: 0.8693\n"
     ]
    }
   ],
   "source": [
    "# Training the model with the nonlinear data\n",
    "model_moon = nn_model.fit(X_moon_train_scaled, y_moon_train, epochs=100, shuffle=True)"
   ]
  },
  {
   "cell_type": "code",
   "execution_count": 19,
   "metadata": {},
   "outputs": [
    {
     "data": {
      "text/plain": [
       "<AxesSubplot:>"
      ]
     },
     "execution_count": 19,
     "metadata": {},
     "output_type": "execute_result"
    },
    {
     "data": {
      "image/png": "[encoded data removed]",
      "text/plain": [
       "<Figure size 432x288 with 1 Axes>"
      ]
     },
     "metadata": {
      "needs_background": "light"
     },
     "output_type": "display_data"
    }
   ],
   "source": [
    "# Create a DataFrame containing training history\n",
    "history_df = pd.DataFrame(model_moon.history, index=range(1,len(model_moon.history[\"loss\"])+1))\n",
    "\n",
    "# Plot the loss\n",
    "history_df.plot(y=\"loss\")"
   ]
  },
  {
   "cell_type": "code",
   "execution_count": 20,
   "metadata": {},
   "outputs": [
    {
     "data": {
      "text/plain": [
       "<AxesSubplot:>"
      ]
     },
     "execution_count": 20,
     "metadata": {},
     "output_type": "execute_result"
    },
    {
     "data": {
      "image/png": "[encoded data removed]",
      "text/plain": [
       "<Figure size 432x288 with 1 Axes>"
      ]
     },
     "metadata": {
      "needs_background": "light"
     },
     "output_type": "display_data"
    }
   ],
   "source": [
    "# Plot the loss\n",
    "history_df.plot(y=\"accuracy\")"
   ]
  },
  {
   "cell_type": "code",
   "execution_count": 21,
   "metadata": {},
   "outputs": [],
   "source": [
    "############## 19.2.5"
   ]
  },
  {
   "cell_type": "code",
   "execution_count": 22,
   "metadata": {},
   "outputs": [],
   "source": [
    "# Generate our new Sequential model\n",
    "new_model = tf.keras.models.Sequential()"
   ]
  },
  {
   "cell_type": "code",
   "execution_count": 23,
   "metadata": {},
   "outputs": [],
   "source": [
    "# Add the input and hidden layer\n",
    "number_inputs = 2\n",
    "number_hidden_nodes = 6\n",
    "\n",
    "new_model.add(tf.keras.layers.Dense(units=number_hidden_nodes, activation=\"relu\", input_dim=number_inputs))\n",
    "\n",
    "# Add the output layer that uses a probability activation function\n",
    "new_model.add(tf.keras.layers.Dense(units=1, activation=\"sigmoid\"))"
   ]
  },
  {
   "cell_type": "code",
   "execution_count": 24,
   "metadata": {},
   "outputs": [
    {
     "name": "stdout",
     "output_type": "stream",
     "text": [
      "Epoch 1/100\n",
      "24/24 [==============================] - 0s 676us/step - loss: 0.8510 - accuracy: 0.3269\n",
      "Epoch 2/100\n",
      "24/24 [==============================] - 0s 697us/step - loss: 0.7905 - accuracy: 0.3457\n",
      "Epoch 3/100\n",
      "24/24 [==============================] - 0s 661us/step - loss: 0.7434 - accuracy: 0.4120\n",
      "Epoch 4/100\n",
      "24/24 [==============================] - 0s 707us/step - loss: 0.7115 - accuracy: 0.5027\n",
      "Epoch 5/100\n",
      "24/24 [==============================] - 0s 715us/step - loss: 0.6732 - accuracy: 0.5701\n",
      "Epoch 6/100\n",
      "24/24 [==============================] - 0s 667us/step - loss: 0.6375 - accuracy: 0.6211\n",
      "Epoch 7/100\n",
      "24/24 [==============================] - 0s 699us/step - loss: 0.6060 - accuracy: 0.7115\n",
      "Epoch 8/100\n",
      "24/24 [==============================] - 0s 699us/step - loss: 0.5857 - accuracy: 0.7515\n",
      "Epoch 9/100\n",
      "24/24 [==============================] - 0s 656us/step - loss: 0.5600 - accuracy: 0.7818\n",
      "Epoch 10/100\n",
      "24/24 [==============================] - 0s 694us/step - loss: 0.5298 - accuracy: 0.7959\n",
      "Epoch 11/100\n",
      "24/24 [==============================] - 0s 681us/step - loss: 0.5073 - accuracy: 0.8180\n",
      "Epoch 12/100\n",
      "24/24 [==============================] - 0s 714us/step - loss: 0.4786 - accuracy: 0.8630\n",
      "Epoch 13/100\n",
      "24/24 [==============================] - 0s 753us/step - loss: 0.4563 - accuracy: 0.8823\n",
      "Epoch 14/100\n",
      "24/24 [==============================] - 0s 725us/step - loss: 0.4431 - accuracy: 0.9103\n",
      "Epoch 15/100\n",
      "24/24 [==============================] - 0s 755us/step - loss: 0.4216 - accuracy: 0.9022\n",
      "Epoch 16/100\n",
      "24/24 [==============================] - 0s 666us/step - loss: 0.4016 - accuracy: 0.9085\n",
      "Epoch 17/100\n",
      "24/24 [==============================] - 0s 728us/step - loss: 0.3838 - accuracy: 0.8947\n",
      "Epoch 18/100\n",
      "24/24 [==============================] - 0s 742us/step - loss: 0.3704 - accuracy: 0.8961\n",
      "Epoch 19/100\n",
      "24/24 [==============================] - 0s 727us/step - loss: 0.3805 - accuracy: 0.8882\n",
      "Epoch 20/100\n",
      "24/24 [==============================] - 0s 687us/step - loss: 0.3555 - accuracy: 0.8858\n",
      "Epoch 21/100\n",
      "24/24 [==============================] - 0s 676us/step - loss: 0.3347 - accuracy: 0.9037\n",
      "Epoch 22/100\n",
      "24/24 [==============================] - 0s 697us/step - loss: 0.3356 - accuracy: 0.9025\n",
      "Epoch 23/100\n",
      "24/24 [==============================] - 0s 660us/step - loss: 0.3172 - accuracy: 0.9032\n",
      "Epoch 24/100\n",
      "24/24 [==============================] - 0s 685us/step - loss: 0.3343 - accuracy: 0.8834\n",
      "Epoch 25/100\n",
      "24/24 [==============================] - 0s 685us/step - loss: 0.3042 - accuracy: 0.9012\n",
      "Epoch 26/100\n",
      "24/24 [==============================] - 0s 680us/step - loss: 0.2995 - accuracy: 0.9014\n",
      "Epoch 27/100\n",
      "24/24 [==============================] - 0s 744us/step - loss: 0.3049 - accuracy: 0.8920\n",
      "Epoch 28/100\n",
      "24/24 [==============================] - 0s 857us/step - loss: 0.2894 - accuracy: 0.9001\n",
      "Epoch 29/100\n",
      "24/24 [==============================] - 0s 714us/step - loss: 0.2815 - accuracy: 0.8960\n",
      "Epoch 30/100\n",
      "24/24 [==============================] - 0s 671us/step - loss: 0.2853 - accuracy: 0.8951\n",
      "Epoch 31/100\n",
      "24/24 [==============================] - 0s 718us/step - loss: 0.2775 - accuracy: 0.8933\n",
      "Epoch 32/100\n",
      "24/24 [==============================] - 0s 676us/step - loss: 0.2652 - accuracy: 0.9028\n",
      "Epoch 33/100\n",
      "24/24 [==============================] - 0s 687us/step - loss: 0.2663 - accuracy: 0.9046\n",
      "Epoch 34/100\n",
      "24/24 [==============================] - 0s 697us/step - loss: 0.2577 - accuracy: 0.9019\n",
      "Epoch 35/100\n",
      "24/24 [==============================] - 0s 747us/step - loss: 0.2635 - accuracy: 0.9030\n",
      "Epoch 36/100\n",
      "24/24 [==============================] - 0s 683us/step - loss: 0.2763 - accuracy: 0.8908\n",
      "Epoch 37/100\n",
      "24/24 [==============================] - 0s 751us/step - loss: 0.2620 - accuracy: 0.9000\n",
      "Epoch 38/100\n",
      "24/24 [==============================] - 0s 724us/step - loss: 0.2393 - accuracy: 0.9146\n",
      "Epoch 39/100\n",
      "24/24 [==============================] - 0s 750us/step - loss: 0.2747 - accuracy: 0.8853\n",
      "Epoch 40/100\n",
      "24/24 [==============================] - 0s 900us/step - loss: 0.2541 - accuracy: 0.9027\n",
      "Epoch 41/100\n",
      "24/24 [==============================] - 0s 824us/step - loss: 0.2536 - accuracy: 0.9017\n",
      "Epoch 42/100\n",
      "24/24 [==============================] - 0s 727us/step - loss: 0.2552 - accuracy: 0.8938\n",
      "Epoch 43/100\n",
      "24/24 [==============================] - 0s 746us/step - loss: 0.2463 - accuracy: 0.9001\n",
      "Epoch 44/100\n",
      "24/24 [==============================] - 0s 810us/step - loss: 0.2724 - accuracy: 0.8815\n",
      "Epoch 45/100\n",
      "24/24 [==============================] - 0s 726us/step - loss: 0.2732 - accuracy: 0.8784\n",
      "Epoch 46/100\n",
      "24/24 [==============================] - 0s 622us/step - loss: 0.2403 - accuracy: 0.9078\n",
      "Epoch 47/100\n",
      "24/24 [==============================] - 0s 721us/step - loss: 0.2409 - accuracy: 0.9004\n",
      "Epoch 48/100\n",
      "24/24 [==============================] - 0s 757us/step - loss: 0.2351 - accuracy: 0.9024\n",
      "Epoch 49/100\n",
      "24/24 [==============================] - 0s 766us/step - loss: 0.2678 - accuracy: 0.8872\n",
      "Epoch 50/100\n",
      "24/24 [==============================] - 0s 878us/step - loss: 0.2150 - accuracy: 0.9211\n",
      "Epoch 51/100\n",
      "24/24 [==============================] - 0s 812us/step - loss: 0.2389 - accuracy: 0.9049\n",
      "Epoch 52/100\n",
      "24/24 [==============================] - 0s 755us/step - loss: 0.2512 - accuracy: 0.8908\n",
      "Epoch 53/100\n",
      "24/24 [==============================] - 0s 770us/step - loss: 0.2304 - accuracy: 0.9058\n",
      "Epoch 54/100\n",
      "24/24 [==============================] - 0s 807us/step - loss: 0.2364 - accuracy: 0.9031\n",
      "Epoch 55/100\n",
      "24/24 [==============================] - 0s 693us/step - loss: 0.2468 - accuracy: 0.8928\n",
      "Epoch 56/100\n",
      "24/24 [==============================] - 0s 692us/step - loss: 0.2472 - accuracy: 0.8919\n",
      "Epoch 57/100\n",
      "24/24 [==============================] - 0s 657us/step - loss: 0.2414 - accuracy: 0.9040\n",
      "Epoch 58/100\n",
      "24/24 [==============================] - 0s 653us/step - loss: 0.2299 - accuracy: 0.9017\n",
      "Epoch 59/100\n",
      "24/24 [==============================] - 0s 648us/step - loss: 0.2207 - accuracy: 0.9188\n",
      "Epoch 60/100\n",
      "24/24 [==============================] - 0s 650us/step - loss: 0.2336 - accuracy: 0.8969\n",
      "Epoch 61/100\n",
      "24/24 [==============================] - 0s 642us/step - loss: 0.2353 - accuracy: 0.9070\n",
      "Epoch 62/100\n",
      "24/24 [==============================] - 0s 655us/step - loss: 0.2263 - accuracy: 0.9079\n",
      "Epoch 63/100\n",
      "24/24 [==============================] - 0s 648us/step - loss: 0.2197 - accuracy: 0.9143\n",
      "Epoch 64/100\n",
      "24/24 [==============================] - 0s 669us/step - loss: 0.2329 - accuracy: 0.9064\n",
      "Epoch 65/100\n",
      "24/24 [==============================] - 0s 657us/step - loss: 0.2048 - accuracy: 0.9162\n",
      "Epoch 66/100\n",
      "24/24 [==============================] - 0s 654us/step - loss: 0.2068 - accuracy: 0.9168\n",
      "Epoch 67/100\n",
      "24/24 [==============================] - 0s 684us/step - loss: 0.2254 - accuracy: 0.9052\n",
      "Epoch 68/100\n",
      "24/24 [==============================] - 0s 655us/step - loss: 0.2434 - accuracy: 0.8890\n",
      "Epoch 69/100\n",
      "24/24 [==============================] - 0s 638us/step - loss: 0.2206 - accuracy: 0.9104\n",
      "Epoch 70/100\n",
      "24/24 [==============================] - 0s 666us/step - loss: 0.2211 - accuracy: 0.9116\n",
      "Epoch 71/100\n",
      "24/24 [==============================] - 0s 681us/step - loss: 0.2077 - accuracy: 0.9082\n",
      "Epoch 72/100\n",
      "24/24 [==============================] - 0s 660us/step - loss: 0.2093 - accuracy: 0.9143\n",
      "Epoch 73/100\n",
      "24/24 [==============================] - 0s 669us/step - loss: 0.2121 - accuracy: 0.9026\n",
      "Epoch 74/100\n",
      "24/24 [==============================] - 0s 650us/step - loss: 0.2202 - accuracy: 0.9156\n",
      "Epoch 75/100\n",
      "24/24 [==============================] - 0s 684us/step - loss: 0.2054 - accuracy: 0.9218\n",
      "Epoch 76/100\n",
      "24/24 [==============================] - 0s 700us/step - loss: 0.2073 - accuracy: 0.9125\n",
      "Epoch 77/100\n",
      "24/24 [==============================] - 0s 663us/step - loss: 0.1955 - accuracy: 0.9170\n",
      "Epoch 78/100\n",
      "24/24 [==============================] - 0s 661us/step - loss: 0.2040 - accuracy: 0.9187\n",
      "Epoch 79/100\n",
      "24/24 [==============================] - 0s 687us/step - loss: 0.2217 - accuracy: 0.8987\n",
      "Epoch 80/100\n",
      "24/24 [==============================] - 0s 660us/step - loss: 0.2058 - accuracy: 0.9137\n",
      "Epoch 81/100\n"
     ]
    },
    {
     "name": "stdout",
     "output_type": "stream",
     "text": [
      "24/24 [==============================] - 0s 669us/step - loss: 0.1829 - accuracy: 0.9275\n",
      "Epoch 82/100\n",
      "24/24 [==============================] - 0s 664us/step - loss: 0.1956 - accuracy: 0.9217\n",
      "Epoch 83/100\n",
      "24/24 [==============================] - 0s 643us/step - loss: 0.2071 - accuracy: 0.9056\n",
      "Epoch 84/100\n",
      "24/24 [==============================] - 0s 634us/step - loss: 0.2005 - accuracy: 0.9274\n",
      "Epoch 85/100\n",
      "24/24 [==============================] - 0s 623us/step - loss: 0.2213 - accuracy: 0.9065\n",
      "Epoch 86/100\n",
      "24/24 [==============================] - 0s 631us/step - loss: 0.2099 - accuracy: 0.9131\n",
      "Epoch 87/100\n",
      "24/24 [==============================] - 0s 683us/step - loss: 0.2019 - accuracy: 0.9083\n",
      "Epoch 88/100\n",
      "24/24 [==============================] - 0s 671us/step - loss: 0.2290 - accuracy: 0.8902\n",
      "Epoch 89/100\n",
      "24/24 [==============================] - 0s 650us/step - loss: 0.2017 - accuracy: 0.9103\n",
      "Epoch 90/100\n",
      "24/24 [==============================] - 0s 619us/step - loss: 0.1983 - accuracy: 0.9082\n",
      "Epoch 91/100\n",
      "24/24 [==============================] - 0s 616us/step - loss: 0.2075 - accuracy: 0.9149\n",
      "Epoch 92/100\n",
      "24/24 [==============================] - 0s 687us/step - loss: 0.1905 - accuracy: 0.9232\n",
      "Epoch 93/100\n",
      "24/24 [==============================] - 0s 630us/step - loss: 0.2001 - accuracy: 0.9135\n",
      "Epoch 94/100\n",
      "24/24 [==============================] - 0s 685us/step - loss: 0.1863 - accuracy: 0.9177\n",
      "Epoch 95/100\n",
      "24/24 [==============================] - 0s 644us/step - loss: 0.1730 - accuracy: 0.9254\n",
      "Epoch 96/100\n",
      "24/24 [==============================] - 0s 666us/step - loss: 0.2296 - accuracy: 0.9021\n",
      "Epoch 97/100\n",
      "24/24 [==============================] - 0s 625us/step - loss: 0.1969 - accuracy: 0.9164\n",
      "Epoch 98/100\n",
      "24/24 [==============================] - 0s 589us/step - loss: 0.2090 - accuracy: 0.9139\n",
      "Epoch 99/100\n",
      "24/24 [==============================] - 0s 620us/step - loss: 0.1947 - accuracy: 0.9145\n",
      "Epoch 100/100\n",
      "24/24 [==============================] - 0s 596us/step - loss: 0.1680 - accuracy: 0.9366\n"
     ]
    }
   ],
   "source": [
    "# Compile the Sequential model together and customize metrics\n",
    "new_model.compile(loss=\"binary_crossentropy\", optimizer=\"adam\", metrics=[\"accuracy\"])\n",
    "\n",
    "# Fit the model to the training data\n",
    "new_fit_model = new_model.fit(X_moon_train_scaled, y_moon_train, epochs=100, shuffle=True)"
   ]
  },
  {
   "cell_type": "code",
   "execution_count": null,
   "metadata": {},
   "outputs": [],
   "source": []
  }
 ],
 "metadata": {
  "kernelspec": {
   "display_name": "mlenv",
   "language": "python",
   "name": "mlenv"
  },
  "language_info": {
   "codemirror_mode": {
    "name": "ipython",
    "version": 3
   },
   "file_extension": ".py",
   "mimetype": "text/x-python",
   "name": "python",
   "nbconvert_exporter": "python",
   "pygments_lexer": "ipython3",
   "version": "3.7.9"
  }
 },
 "nbformat": 4,
 "nbformat_minor": 4
}
